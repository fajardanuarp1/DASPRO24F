{
 "cells": [
  {
   "cell_type": "code",
   "execution_count": 67,
   "id": "664f10bb-946b-4ffe-be9f-a3431ba313ac",
   "metadata": {},
   "outputs": [
    {
     "name": "stdout",
     "output_type": "stream",
     "text": [
      "Nama : Ujang tahu bulat\n",
      "Umur : 1000\n",
      "Alamat : Mexico bagian lebak\n",
      "Provinsi : 12345678\n",
      "Nilai Pemrograman : 100\n",
      "Status Menikah : False\n",
      "Hobi : Mancing di cikupa\n",
      "Kata Kata : Telat makan aja sakit apalagi telat menghargai\n",
      "Mobil : ('Pajero sport', 'Nissan GTR Nismo', 'Toyota Supra MK4')\n"
     ]
    }
   ],
   "source": [
    "name = \"Ujang tahu bulat\"\n",
    "age = 1000\n",
    "address,province = \"Mexico bagian lebak\",\"12345678\"\n",
    "pythonScore = 100\n",
    "isMarried = False\n",
    "Hobbies = \"Mancing di cikupa\"\n",
    "Quotes = \"Telat makan aja sakit apalagi telat menghargai\"\n",
    "Car = \"Pajero sport\",\"Nissan GTR Nismo\",\"Toyota Supra MK4\"\n",
    "MotoBike =\n",
    "print(\"Nama :\",name)\n",
    "print(\"Umur :\",age)\n",
    "print(\"Alamat :\",address)\n",
    "print(\"Provinsi :\",province)\n",
    "print(\"Nilai Pemrograman :\",pythonscore)\n",
    "print(\"Status Menikah :\",isMarried)\n",
    "print(\"Hobi :\",Hobbies)\n",
    "print(\"Kata Kata :\",Quotes)\n",
    "print(\"Mobil :\",Car)\n"
   ]
  },
  {
   "cell_type": "code",
   "execution_count": 59,
   "id": "a6235a31-b1bc-41f3-ae52-6a7e7dc5f32e",
   "metadata": {},
   "outputs": [
    {
     "name": "stdout",
     "output_type": "stream",
     "text": [
      "Tipe Data (name) : <class 'str'>\n",
      "Tipe Data (age) : <class 'int'>\n",
      "Tipe Data (address) : <class 'str'>\n",
      "Tipe Data (pythonScore) : <class 'int'>\n",
      "Tipe Data (province): <class 'str'>\n",
      "Tipe Data (isMarried) : <class 'bool'>\n"
     ]
    }
   ],
   "source": [
    "print(\"Tipe Data (name) :\",type(name))\n",
    "print(\"Tipe Data (age) :\", type(age))\n",
    "print(\"Tipe Data (address) :\",type(address))\n",
    "print(\"Tipe Data (pythonScore) :\",type(pythonScore))\n",
    "print(\"Tipe Data (province):\",type(province))\n",
    "print(\"Tipe Data (isMarried) :\",type(isMarried))\n"
   ]
  },
  {
   "cell_type": "code",
   "execution_count": 65,
   "id": "72d8da48-6997-44d2-98f3-aa665ced4cfa",
   "metadata": {},
   "outputs": [
    {
     "name": "stdout",
     "output_type": "stream",
     "text": [
      "12345680 12345678.0 True\n",
      "1000 1000.0 True\n",
      "100 100 True\n",
      "False 0 0.0\n"
     ]
    }
   ],
   "source": [
    "#Casting atau konversi Tipe Data\n",
    "\n",
    "strToInt = int(province)\n",
    "strToFloat = float(province)\n",
    "strToBool = bool(province)\n",
    "print(strToInt+2,strToFloat,strToBool)\n",
    "\n",
    "intToStr = str(age)\n",
    "intToFloat = float(age)\n",
    "intToBool = bool(age)\n",
    "print(intToStr,intToFloat,intToBool)\n",
    "\n",
    "floatToStr = str(pythonScore)\n",
    "floatToInt = int(pythonScore)\n",
    "floatToBool = bool(pythonScore)\n",
    "print(floatToStr,floatToInt,floatToBool)\n",
    "\n",
    "boolToStr = str (isMarried)\n",
    "boolToInt = int (isMarried)\n",
    "boolToFloat = float (isMarried)\n",
    "print(boolToStr,boolToInt,boolToFloat)\n",
    "\n",
    "\n"
   ]
  },
  {
   "cell_type": "code",
   "execution_count": 56,
   "id": "ea6be6ef-a31b-4719-9269-4bdc240ef3dc",
   "metadata": {},
   "outputs": [
    {
     "name": "stdout",
     "output_type": "stream",
     "text": [
      "P\n",
      "u\n"
     ]
    }
   ],
   "source": [
    "#String adalah beberapa kumpulan dari beberapa karakter dan Immutable\n",
    "\n",
    "city = \"Palabuhanratu\"\n",
    "panjang = len(city)\n",
    "print(city[0])\n",
    "print(city[panjang-1])"
   ]
  },
  {
   "cell_type": "code",
   "execution_count": 66,
   "id": "f1fe6830-d09e-47da-9053-5415eacdb081",
   "metadata": {},
   "outputs": [
    {
     "name": "stdout",
     "output_type": "stream",
     "text": [
      "Nilai desimal: 500\n",
      "Nilai biner: 10\n",
      "Nilai octal: 255\n",
      "Nilai hexa: 255\n",
      "Biner dari  500 : 0b111110100\n",
      "Octal dari  500 : 0o764\n",
      "Hexadesimal dari  500 : 0x1f4\n"
     ]
    }
   ],
   "source": [
    "desimal = 500\n",
    "biner = 0b1010\n",
    "octal = 0o377\n",
    "hexa = 0xff\n",
    "\n",
    "print(\"Nilai desimal:\",desimal)\n",
    "print(\"Nilai biner:\",biner)\n",
    "print(\"Nilai octal:\",octal)\n",
    "print(\"Nilai hexa:\",hexa)\n",
    "\n",
    "print(\"Biner dari \",desimal,\":\",bin(desimal))\n",
    "print(\"Octal dari \",desimal,\":\",oct(desimal))\n",
    "print(\"Hexadesimal dari \",desimal,\":\",hex(desimal))\n"
   ]
  },
  {
   "cell_type": "code",
   "execution_count": 163,
   "id": "f1ad91f6-34d4-48b8-8722-11061bf539df",
   "metadata": {},
   "outputs": [
    {
     "name": "stdout",
     "output_type": "stream",
     "text": [
      "['Palabuhanratu', 'Citepus', 'Sukabumi']\n",
      "Palabuhanratu\n",
      "Sukabumi\n",
      "['Palabuhanratu', 'Arab', 'Sukabumi']\n",
      "('Melamun', 'Ngeronda', 'Melukis Batu')\n",
      "Melamun\n",
      "[{'name': 'Pinsen', 'age': 35, 'address': {'street': 'jl. berlubang', 'number': 0, 'province': 'Barcelona'}}, {'name': 'Mamat knalpot', 'age': 44, 'address': {'street': 'jl. hahay', 'number': 11, 'province': 'Pasir Hencay'}}]\n",
      "Pinsen\n",
      "Barcelona\n",
      "{'name': 'Mamat knalpot', 'age': 44, 'address': {'street': 'jl. hahay', 'number': 11, 'province': 'Pasir Hencay'}}\n"
     ]
    }
   ],
   "source": [
    "#Tipe data Collection\n",
    "cities = [\"Palabuhanratu\",\"Citepus\",\"Sukabumi\"] #list\n",
    "print(cities)\n",
    "print(cities[0])\n",
    "print(cities[len(cities)-1])\n",
    "cities[1] = \"Arab\"\n",
    "print(cities)\n",
    "\n",
    "hobbies = (\"Melamun\",\"Ngeronda\",\"Melukis Batu\")\n",
    "print(hobbies)\n",
    "print(hobbies[0])\n",
    "#hobbies[0] = \"Maling Ayam\" error program\n",
    "\n",
    "studentList = [\n",
    "    { \n",
    "        \"name\": \"Pinsen\",\n",
    "        \"age\": 35,\n",
    "        \"address\": {\n",
    "            \"street\": \"jl. berlubang\",\n",
    "            \"number\": 0,\n",
    "            \"province\": \"Barcelona\"\n",
    "        }\n",
    "    },\n",
    "    {\n",
    "        \"name\": \"Mamat knalpot\",\n",
    "        \"age\": 44,\n",
    "        \"address\": {\n",
    "            \"street\": \"jl. hahay\",\n",
    "            \"number\": 11,\n",
    "            \"province\": \"Pasir Hencay\"\n",
    "        }\n",
    "    }\n",
    "]\n",
    "\n",
    "# Mengakses data dari studentList\n",
    "print(studentList)  \n",
    "print(studentList[0][\"name\"])\n",
    "print(studentList[0][\"address\"][\"province\"])\n",
    "print(studentList[1])"
   ]
  },
  {
   "cell_type": "code",
   "execution_count": null,
   "id": "e202da75-ebd2-4923-a77d-134700263ac7",
   "metadata": {},
   "outputs": [],
   "source": []
  }
 ],
 "metadata": {
  "kernelspec": {
   "display_name": "Python 3 (ipykernel)",
   "language": "python",
   "name": "python3"
  },
  "language_info": {
   "codemirror_mode": {
    "name": "ipython",
    "version": 3
   },
   "file_extension": ".py",
   "mimetype": "text/x-python",
   "name": "python",
   "nbconvert_exporter": "python",
   "pygments_lexer": "ipython3",
   "version": "3.9.12"
  }
 },
 "nbformat": 4,
 "nbformat_minor": 5
}
