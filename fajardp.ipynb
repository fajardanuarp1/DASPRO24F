{
 "cells": [
  {
   "cell_type": "markdown",
   "id": "a96b19a3-7700-44f6-8573-f21f243be7e5",
   "metadata": {},
   "source": [
    "<img src=\"https://e7.pngegg.com/pngimages/297/234/png-clipart-toyota-kijang-car-chevrolet-tavera-toyota-innova-car-van-car-rental-thumbnail.png\" width=\"200\">\n",
    "</center><br>\n",
    "Apakah type <b>Mobil</b> di gambar tersebut?\n",
    "<ol>\n",
    "    <li>kijang kapsul </li>\n",
    "    <li>Mobil angkot </li>\n",
    "    <li>Mobil Truk   </li>\n",
    "    \n",
    "</ol>\n",
    "<hr>"
   ]
  },
  {
   "cell_type": "code",
   "execution_count": null,
   "id": "c397423b-79e8-4e1e-aceb-225e3fee4f8c",
   "metadata": {},
   "outputs": [],
   "source": []
  },
  {
   "cell_type": "markdown",
   "id": "98c19dbf-f6c7-41a9-8e6f-936a7e16d921",
   "metadata": {},
   "source": [
    "Cara menambahkan Cell ada 2:\n",
    "<ul> \n",
    "    <li>Above (A)</li>\n",
    "    <li>Below (B)</li>\n",
    "    <ul>\n",
    "        \n",
    "<table>\n",
    "    <tr>\n",
    "        <th>Perintah</td>\n",
    "        <th>Keterangan</td>\n",
    "    </tr>\n",
    "    <tr>\n",
    "        <td>ctrl + enter</td>\n",
    "        <td>Running dan fokus di cell</td>\n",
    "    </tr>\n",
    "    <tr>\n",
    "        <td>Shift + Enter</td>\n",
    "        <td>Running dan fokus di cell</td>\n",
    "    </tr>\n",
    "</table>\n",
    "        \n",
    "    \n",
    "    "
   ]
  },
  {
   "cell_type": "code",
   "execution_count": 1,
   "id": "89619baf-1597-4faf-9470-c3c0b821eec3",
   "metadata": {},
   "outputs": [
    {
     "name": "stdout",
     "output_type": "stream",
     "text": [
      "Python is very easy\n",
      "5\n",
      "sekarang hari jum'at\n",
      "Deklarasikan variabel \"A\"\n",
      "15\n",
      "10\n"
     ]
    },
    {
     "data": {
      "text/plain": [
       "105"
      ]
     },
     "execution_count": 1,
     "metadata": {},
     "output_type": "execute_result"
    }
   ],
   "source": [
    "print(\"Python is very easy\")\n",
    "data = 5\n",
    "data2 = \"10\"\n",
    "print(data)\n",
    "print(\"sekarang hari jum'at\")\n",
    "print('Deklarasikan variabel \"A\"')\n",
    "print(data + int(data2))\n",
    "print(data2)\n",
    "data2\n",
    "data + 100\n",
    "\n"
   ]
  }
 ],
 "metadata": {
  "kernelspec": {
   "display_name": "Python 3 (ipykernel)",
   "language": "python",
   "name": "python3"
  },
  "language_info": {
   "codemirror_mode": {
    "name": "ipython",
    "version": 3
   },
   "file_extension": ".py",
   "mimetype": "text/x-python",
   "name": "python",
   "nbconvert_exporter": "python",
   "pygments_lexer": "ipython3",
   "version": "3.9.12"
  }
 },
 "nbformat": 4,
 "nbformat_minor": 5
}
